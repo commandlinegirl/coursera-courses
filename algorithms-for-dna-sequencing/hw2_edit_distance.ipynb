{
 "cells": [
  {
   "cell_type": "code",
   "execution_count": 82,
   "metadata": {},
   "outputs": [],
   "source": [
    "def editDistIter(a, b):\n",
    "    if len(a) == 0:\n",
    "        return len(b)\n",
    "    if len(b) == 0:\n",
    "        return len(a)\n",
    "\n",
    "    cache = [[0 for i in range(len(b) + 1)] for j in range(len(a) + 1)]\n",
    "    for i in range(len(a) + 1):\n",
    "        cache[i][0] = i\n",
    "    for j in range(len(b) + 1):\n",
    "        cache[0][j] = j\n",
    "        \n",
    "    for i in range(1, len(a) + 1):\n",
    "        for j in range(1, len(b) + 1):\n",
    "            distHor = cache[i][j-1] + 1                # insertion\n",
    "            distVer = cache[i-1][j] + 1                # deletion\n",
    "            delta = 0 if a[i-1] == b[j-1] else 1\n",
    "            distDiag = cache[i-1][j-1] + delta         # substitution\n",
    "            editDist = min(distHor, distVer, distDiag)\n",
    "            cache[i][j] = editDist\n",
    "\n",
    "    return cache[-1][-1]"
   ]
  },
  {
   "cell_type": "code",
   "execution_count": 83,
   "metadata": {},
   "outputs": [
    {
     "data": {
      "text/plain": [
       "3"
      ]
     },
     "execution_count": 83,
     "metadata": {},
     "output_type": "execute_result"
    }
   ],
   "source": [
    "a = 'shake spea'\n",
    "b = 'Shakespear'\n",
    "editDistIter(a, b)"
   ]
  },
  {
   "cell_type": "code",
   "execution_count": 85,
   "metadata": {},
   "outputs": [],
   "source": [
    "def readGenome(filename):\n",
    "    genome = ''\n",
    "    with open(filename, 'r') as f:\n",
    "        for line in f:\n",
    "            # ignore header line with genome information\n",
    "            if not line[0] == '>':\n",
    "                genome += line.rstrip()\n",
    "    return genome"
   ]
  },
  {
   "cell_type": "code",
   "execution_count": null,
   "metadata": {},
   "outputs": [],
   "source": []
  }
 ],
 "metadata": {
  "kernelspec": {
   "display_name": "Python 3",
   "language": "python",
   "name": "python3"
  },
  "language_info": {
   "codemirror_mode": {
    "name": "ipython",
    "version": 3
   },
   "file_extension": ".py",
   "mimetype": "text/x-python",
   "name": "python",
   "nbconvert_exporter": "python",
   "pygments_lexer": "ipython3",
   "version": "3.6.6"
  }
 },
 "nbformat": 4,
 "nbformat_minor": 2
}
